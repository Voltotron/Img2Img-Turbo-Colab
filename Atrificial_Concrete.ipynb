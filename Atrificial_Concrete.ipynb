{
  "cells": [
    {
      "cell_type": "code",
      "execution_count": null,
      "metadata": {
        "colab": {
          "base_uri": "https://localhost:8080/"
        },
        "collapsed": true,
        "id": "C7mBki_AnHUQ",
        "outputId": "9e7f6f22-a3c5-4038-ecc1-16f71c75c29b"
      },
      "outputs": [],
      "source": [
        "!git clone https://github.com/andjoer/img2img-turbo.git\n",
        "%cd img2img-turbo\n",
        "\n",
        "# Install required packages\n",
        "!pip install -r requirements.txt"
      ]
    },
    {
      "cell_type": "code",
      "execution_count": null,
      "metadata": {
        "colab": {
          "base_uri": "https://localhost:8080/"
        },
        "id": "0Xx3ozow2Uo7",
        "outputId": "91a91749-a9e1-4ad7-d840-dfc812fcde0e"
      },
      "outputs": [],
      "source": [
        "from google.colab import drive\n",
        "drive.mount('/content/drive',force_remount=True)"
      ]
    },
    {
      "cell_type": "code",
      "execution_count": null,
      "metadata": {
        "colab": {
          "base_uri": "https://localhost:8080/"
        },
        "id": "1mF6HG2j2eJ8",
        "outputId": "6e394962-971e-4ce7-ce48-b5f0189def05"
      },
      "outputs": [],
      "source": [
        "!mkdir -p datasets\n",
        "!cp -r \"\"\"ruta del dataset en Drive\"\"\" datasets/concrete"
      ]
    },
    {
      "cell_type": "code",
      "execution_count": null,
      "metadata": {
        "id": "1sBEpCLOgnpi"
      },
      "outputs": [],
      "source": [
        "!mkdir -p checkpoint\n",
        "!cp -r \"\"\"ruta del checkpoint en Drive\"\"\" checkpoint"
      ]
    },
    {
      "cell_type": "code",
      "execution_count": null,
      "metadata": {
        "colab": {
          "base_uri": "https://localhost:8080/"
        },
        "id": "W1mtlRXE4D2I",
        "outputId": "bae41be9-590d-4450-df03-a8efb048015f"
      },
      "outputs": [],
      "source": [
        "!accelerate config"
      ]
    },
    {
      "cell_type": "code",
      "execution_count": null,
      "metadata": {
        "colab": {
          "base_uri": "https://localhost:8080/"
        },
        "id": "wHvzF1HGaq5x",
        "outputId": "d2a2eae5-d5df-4e5b-e232-7f813ee6baa9"
      },
      "outputs": [],
      "source": [
        "!pip install --upgrade diffusers huggingface_hub transformers"
      ]
    },
    {
      "cell_type": "code",
      "execution_count": null,
      "metadata": {
        "colab": {
          "base_uri": "https://localhost:8080/"
        },
        "id": "CMZOpmKF-YkK",
        "outputId": "9964943f-af3d-48cc-f0c9-a2d5307a03a1"
      },
      "outputs": [],
      "source": [
        "!pip install --upgrade --pre torch torchvision torchaudio \\\n",
        "    --index-url https://download.pytorch.org/whl/nightly/cu118"
      ]
    },
    {
      "cell_type": "code",
      "execution_count": null,
      "metadata": {
        "colab": {
          "base_uri": "https://localhost:8080/"
        },
        "id": "MfZgB9cl5J9m",
        "outputId": "5692b241-7899-4cb6-d72e-ba238da53d7f"
      },
      "outputs": [],
      "source": [
        "!accelerate launch src/train_pix2pix_turbo.py \\\n",
        "    --pretrained_model_name_or_path \"stabilityai/sd-turbo\" \\\n",
        "    --pretrained_path \"ruta del modelo preentrenado\" \\\n",
        "    --max_train_steps 10000 \\\n",
        "    --output_dir \"ruta de donde se guardan los checkpoints y las imagenes de validacion\" \\\n",
        "    --dataset_folder \"ruta del dataset\" \\\n",
        "    --resolution 256 \\\n",
        "    --train_batch_size 2 \\\n",
        "    --viz_freq 25 \\\n",
        "    --track_val_fid \\\n",
        "    --report_to \"wandb\" --tracker_project_name \"nombre del proyecto en wandb\""
      ]
    },
    {
      "cell_type": "code",
      "execution_count": null,
      "metadata": {},
      "outputs": [],
      "source": [
        "!zip -r /content/checkpoint.zip \"\"\"ruta del checkpoint que se desa guardar\"\"\"\n",
        "!mv /content/checkpoint.zip /content/drive/MyDrive/ "
      ]
    },
    {
      "cell_type": "code",
      "execution_count": null,
      "metadata": {
        "id": "P8K54mom4CjB"
      },
      "outputs": [],
      "source": [
        "!mkdir -p masks\n",
        "!cp -r /content/drive/MyDrive/Generated_mask/ masks"
      ]
    },
    {
      "cell_type": "code",
      "execution_count": null,
      "metadata": {
        "colab": {
          "base_uri": "https://localhost:8080/"
        },
        "id": "PgVfBWTb6S0S",
        "outputId": "666e56ee-7d15-4eeb-b456-57a0b97ddd2d"
      },
      "outputs": [],
      "source": [
        "!accelerate launch src/inference_paired.py --model_path \"ruta del modelo\" \\\n",
        "    --input_folder \"ruta de la carpeta de las mascaras\" \\\n",
        "    --prompt \"concrete on construction site background\" \\\n",
        "    --batch_size 2 \\\n",
        "    --model_name \"stabilityai/sd-turbo\" \\\n",
        "    --resize_dim 512 \\\n",
        "    --output_dir \"ruta de donde se guardan las imagenes generadas\""
      ]
    },
    {
      "cell_type": "code",
      "execution_count": null,
      "metadata": {
        "colab": {
          "base_uri": "https://localhost:8080/"
        },
        "collapsed": true,
        "id": "dcrqSbOeJe9g",
        "outputId": "5e963b3f-ed7f-47cf-a0a0-d43b0bf1699d"
      },
      "outputs": [],
      "source": [
        "!zip -r /content/generated_images.zip \"\"\"ruta de donde se guardan las imagenes generadas\"\"\"\n",
        "!mv /content/generated_images.zip /content/drive/MyDrive/ "
      ]
    }
  ],
  "metadata": {
    "accelerator": "GPU",
    "colab": {
      "gpuType": "A100",
      "machine_shape": "hm",
      "provenance": []
    },
    "kernelspec": {
      "display_name": "Python 3",
      "name": "python3"
    },
    "language_info": {
      "name": "python"
    }
  },
  "nbformat": 4,
  "nbformat_minor": 0
}
